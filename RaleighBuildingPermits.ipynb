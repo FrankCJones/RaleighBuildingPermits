{
 "cells": [
  {
   "cell_type": "code",
   "execution_count": 22,
   "id": "aa4fa015",
   "metadata": {},
   "outputs": [
    {
     "data": {
      "text/html": [
       "<div>\n",
       "<style scoped>\n",
       "    .dataframe tbody tr th:only-of-type {\n",
       "        vertical-align: middle;\n",
       "    }\n",
       "\n",
       "    .dataframe tbody tr th {\n",
       "        vertical-align: top;\n",
       "    }\n",
       "\n",
       "    .dataframe thead th {\n",
       "        text-align: right;\n",
       "    }\n",
       "</style>\n",
       "<table border=\"1\" class=\"dataframe\">\n",
       "  <thead>\n",
       "    <tr style=\"text-align: right;\">\n",
       "      <th></th>\n",
       "      <th>X</th>\n",
       "      <th>Y</th>\n",
       "      <th>OBJECTID</th>\n",
       "      <th>permittypemapped</th>\n",
       "      <th>workclass</th>\n",
       "      <th>permitclass</th>\n",
       "      <th>proposedworkdescription</th>\n",
       "      <th>permitclassmapped</th>\n",
       "      <th>applieddate</th>\n",
       "      <th>issueddate</th>\n",
       "      <th>...</th>\n",
       "      <th>voiddate</th>\n",
       "      <th>workclassmapped</th>\n",
       "      <th>GlobalID</th>\n",
       "      <th>CreationDate</th>\n",
       "      <th>Creator</th>\n",
       "      <th>EditDate</th>\n",
       "      <th>Editor</th>\n",
       "      <th>const_type</th>\n",
       "      <th>occupancyclass</th>\n",
       "      <th>permitnum</th>\n",
       "    </tr>\n",
       "  </thead>\n",
       "  <tbody>\n",
       "    <tr>\n",
       "      <th>0</th>\n",
       "      <td>NaN</td>\n",
       "      <td>NaN</td>\n",
       "      <td>47520</td>\n",
       "      <td>Building</td>\n",
       "      <td>New Building</td>\n",
       "      <td>324.0</td>\n",
       "      <td>NaN</td>\n",
       "      <td>Residential</td>\n",
       "      <td>2000/04/19 18:30:49+00</td>\n",
       "      <td>2000/04/26 15:16:34+00</td>\n",
       "      <td>...</td>\n",
       "      <td>NaN</td>\n",
       "      <td>New</td>\n",
       "      <td>45bb79c5-cc94-4ab7-9883-deab6c05f486</td>\n",
       "      <td>2018/03/16 01:55:55.663+00</td>\n",
       "      <td>justin.greco@raleighnc.gov_ral</td>\n",
       "      <td>2019/07/19 12:56:25.206+00</td>\n",
       "      <td>NaN</td>\n",
       "      <td>VI U</td>\n",
       "      <td>BUSINESS</td>\n",
       "      <td>000884</td>\n",
       "    </tr>\n",
       "    <tr>\n",
       "      <th>1</th>\n",
       "      <td>NaN</td>\n",
       "      <td>NaN</td>\n",
       "      <td>47521</td>\n",
       "      <td>Building</td>\n",
       "      <td>New Building</td>\n",
       "      <td>324.0</td>\n",
       "      <td>NaN</td>\n",
       "      <td>Residential</td>\n",
       "      <td>2000/04/10 15:05:56+00</td>\n",
       "      <td>2000/04/26 15:16:18+00</td>\n",
       "      <td>...</td>\n",
       "      <td>NaN</td>\n",
       "      <td>New</td>\n",
       "      <td>675f6d3e-358a-4b6d-b001-b21d4353035f</td>\n",
       "      <td>2018/03/16 01:55:55.663+00</td>\n",
       "      <td>justin.greco@raleighnc.gov_ral</td>\n",
       "      <td>2019/07/19 12:56:25.206+00</td>\n",
       "      <td>NaN</td>\n",
       "      <td>V  U</td>\n",
       "      <td>ASSEMBLY SMALL</td>\n",
       "      <td>000571</td>\n",
       "    </tr>\n",
       "    <tr>\n",
       "      <th>2</th>\n",
       "      <td>NaN</td>\n",
       "      <td>NaN</td>\n",
       "      <td>47522</td>\n",
       "      <td>Building</td>\n",
       "      <td>Alterations/repairs</td>\n",
       "      <td>318.0</td>\n",
       "      <td>GRILL</td>\n",
       "      <td>Non-Residential</td>\n",
       "      <td>2000/05/22 17:35:10+00</td>\n",
       "      <td>2000/07/03 13:59:20+00</td>\n",
       "      <td>...</td>\n",
       "      <td>NaN</td>\n",
       "      <td>Existing</td>\n",
       "      <td>0b192fb0-3879-4bbc-b4f9-e91b7c7419de</td>\n",
       "      <td>2018/03/16 01:55:55.663+00</td>\n",
       "      <td>justin.greco@raleighnc.gov_ral</td>\n",
       "      <td>2019/07/19 12:56:25.206+00</td>\n",
       "      <td>NaN</td>\n",
       "      <td>VI U</td>\n",
       "      <td>BUSINESS</td>\n",
       "      <td>001769</td>\n",
       "    </tr>\n",
       "    <tr>\n",
       "      <th>3</th>\n",
       "      <td>NaN</td>\n",
       "      <td>NaN</td>\n",
       "      <td>47523</td>\n",
       "      <td>Building</td>\n",
       "      <td>Addition</td>\n",
       "      <td>437.0</td>\n",
       "      <td>ADD TO RALEIGH COUNTRY CLUB</td>\n",
       "      <td>Non-Residential</td>\n",
       "      <td>2000/07/13 14:10:59+00</td>\n",
       "      <td>2000/08/14 14:46:02+00</td>\n",
       "      <td>...</td>\n",
       "      <td>NaN</td>\n",
       "      <td>Existing</td>\n",
       "      <td>c5d7649a-1e56-4ec5-8c9d-73cf5ff3bc46</td>\n",
       "      <td>2018/03/16 01:55:55.663+00</td>\n",
       "      <td>justin.greco@raleighnc.gov_ral</td>\n",
       "      <td>2019/07/19 12:56:25.206+00</td>\n",
       "      <td>NaN</td>\n",
       "      <td>V  U</td>\n",
       "      <td>ASSEMBLY SMALL</td>\n",
       "      <td>002989</td>\n",
       "    </tr>\n",
       "    <tr>\n",
       "      <th>4</th>\n",
       "      <td>NaN</td>\n",
       "      <td>NaN</td>\n",
       "      <td>47524</td>\n",
       "      <td>Building</td>\n",
       "      <td>Alterations/repairs</td>\n",
       "      <td>437.0</td>\n",
       "      <td>ALTER TO RALEIGH COUNTRY CLUB</td>\n",
       "      <td>Non-Residential</td>\n",
       "      <td>2000/08/03 14:53:08+00</td>\n",
       "      <td>2000/08/14 14:46:19+00</td>\n",
       "      <td>...</td>\n",
       "      <td>NaN</td>\n",
       "      <td>Existing</td>\n",
       "      <td>e74418a5-7ee1-468b-9d33-314b1c049ed6</td>\n",
       "      <td>2018/03/16 01:55:55.663+00</td>\n",
       "      <td>justin.greco@raleighnc.gov_ral</td>\n",
       "      <td>2019/07/19 12:56:25.206+00</td>\n",
       "      <td>NaN</td>\n",
       "      <td>V  U</td>\n",
       "      <td>ASSEMBLY SMALL</td>\n",
       "      <td>003611</td>\n",
       "    </tr>\n",
       "  </tbody>\n",
       "</table>\n",
       "<p>5 rows × 87 columns</p>\n",
       "</div>"
      ],
      "text/plain": [
       "    X   Y  OBJECTID permittypemapped            workclass  permitclass  \\\n",
       "0 NaN NaN     47520         Building         New Building        324.0   \n",
       "1 NaN NaN     47521         Building         New Building        324.0   \n",
       "2 NaN NaN     47522         Building  Alterations/repairs        318.0   \n",
       "3 NaN NaN     47523         Building             Addition        437.0   \n",
       "4 NaN NaN     47524         Building  Alterations/repairs        437.0   \n",
       "\n",
       "         proposedworkdescription permitclassmapped             applieddate  \\\n",
       "0                            NaN       Residential  2000/04/19 18:30:49+00   \n",
       "1                            NaN       Residential  2000/04/10 15:05:56+00   \n",
       "2                          GRILL   Non-Residential  2000/05/22 17:35:10+00   \n",
       "3    ADD TO RALEIGH COUNTRY CLUB   Non-Residential  2000/07/13 14:10:59+00   \n",
       "4  ALTER TO RALEIGH COUNTRY CLUB   Non-Residential  2000/08/03 14:53:08+00   \n",
       "\n",
       "               issueddate  ...  voiddate workclassmapped  \\\n",
       "0  2000/04/26 15:16:34+00  ...       NaN             New   \n",
       "1  2000/04/26 15:16:18+00  ...       NaN             New   \n",
       "2  2000/07/03 13:59:20+00  ...       NaN        Existing   \n",
       "3  2000/08/14 14:46:02+00  ...       NaN        Existing   \n",
       "4  2000/08/14 14:46:19+00  ...       NaN        Existing   \n",
       "\n",
       "                               GlobalID                CreationDate  \\\n",
       "0  45bb79c5-cc94-4ab7-9883-deab6c05f486  2018/03/16 01:55:55.663+00   \n",
       "1  675f6d3e-358a-4b6d-b001-b21d4353035f  2018/03/16 01:55:55.663+00   \n",
       "2  0b192fb0-3879-4bbc-b4f9-e91b7c7419de  2018/03/16 01:55:55.663+00   \n",
       "3  c5d7649a-1e56-4ec5-8c9d-73cf5ff3bc46  2018/03/16 01:55:55.663+00   \n",
       "4  e74418a5-7ee1-468b-9d33-314b1c049ed6  2018/03/16 01:55:55.663+00   \n",
       "\n",
       "                          Creator                    EditDate Editor  \\\n",
       "0  justin.greco@raleighnc.gov_ral  2019/07/19 12:56:25.206+00    NaN   \n",
       "1  justin.greco@raleighnc.gov_ral  2019/07/19 12:56:25.206+00    NaN   \n",
       "2  justin.greco@raleighnc.gov_ral  2019/07/19 12:56:25.206+00    NaN   \n",
       "3  justin.greco@raleighnc.gov_ral  2019/07/19 12:56:25.206+00    NaN   \n",
       "4  justin.greco@raleighnc.gov_ral  2019/07/19 12:56:25.206+00    NaN   \n",
       "\n",
       "  const_type  occupancyclass  permitnum  \n",
       "0       VI U        BUSINESS     000884  \n",
       "1       V  U  ASSEMBLY SMALL     000571  \n",
       "2       VI U        BUSINESS     001769  \n",
       "3       V  U  ASSEMBLY SMALL     002989  \n",
       "4       V  U  ASSEMBLY SMALL     003611  \n",
       "\n",
       "[5 rows x 87 columns]"
      ]
     },
     "execution_count": 22,
     "metadata": {},
     "output_type": "execute_result"
    }
   ],
   "source": [
    "import pandas as pd\n",
    "import matplotlib.pyplot as plt\n",
    "import numpy as np\n",
    "\n",
    "'''\n",
    "This is a large dataset and low_memory=False was required since Pandas uses\n",
    "significant resources to read each column and identify the data type. A better\n",
    "solution would be to specify the data type for each column in advance, but\n",
    "that can have unintended errors with improperly formatted data.\n",
    "'''\n",
    "df = pd.read_csv (r'./data/Building_Permits.csv', low_memory=False)\n",
    "df.head()"
   ]
  },
  {
   "cell_type": "code",
   "execution_count": 23,
   "id": "66627bcb",
   "metadata": {},
   "outputs": [],
   "source": [
    "'''\n",
    "All data fields that have a date in this dataset begin with a four digit year.\n",
    "This function will take a DATA FRAME, COLUMN NAME, and YEAR to return a data\n",
    "frame with only the rows that match the year in the given column.\n",
    "'''\n",
    "def get_by_year (data_frame, column_name, year):\n",
    "    return data_frame.loc[data_frame[column_name].astype(str).str[:4]==str(year)]"
   ]
  },
  {
   "cell_type": "code",
   "execution_count": 31,
   "id": "65af5bd3",
   "metadata": {},
   "outputs": [],
   "source": [
    "applied2016 = get_by_year(df, 'applieddate', 2016)\n",
    "applied2017 = get_by_year(df, 'applieddate', 2017)\n",
    "applied2018 = get_by_year(df, 'applieddate', 2018)\n",
    "applied2019 = get_by_year(df, 'applieddate', 2019)\n",
    "applied2020 = get_by_year(df, 'applieddate', 2020)\n",
    "applied2021 = get_by_year(df, 'applieddate', 2021)\n",
    "\n",
    "issued2016 = get_by_year(df, 'issueddate', 2016)\n",
    "issued2017 = get_by_year(df, 'issueddate', 2017)\n",
    "issued2018 = get_by_year(df, 'issueddate', 2018)\n",
    "issued2019 = get_by_year(df, 'issueddate', 2019)\n",
    "issued2020 = get_by_year(df, 'issueddate', 2020)\n",
    "issued2021 = get_by_year(df, 'issueddate', 2021)\n",
    "\n",
    "codate2016 = get_by_year(df, 'coissueddate', 2016)\n",
    "codate2017 = get_by_year(df, 'coissueddate', 2017)\n",
    "codate2018 = get_by_year(df, 'coissueddate', 2018)\n",
    "codate2019 = get_by_year(df, 'coissueddate', 2019)\n",
    "codate2020 = get_by_year(df, 'coissueddate', 2020)\n",
    "codate2021 = get_by_year(df, 'coissueddate', 2021)\n",
    "\n",
    "\n",
    "applied = [len(applied2016.index), len(applied2017.index), len(applied2018.index), len(applied2019.index), len(applied2020.index), len(applied2021.index)]\n",
    "issued = [len(issued2016.index), len(issued2017.index), len(issued2018.index), len(issued2019.index), len(issued2020.index), len(issued2021.index)]\n",
    "codate = [len(codate2016.index), len(codate2017.index), len(codate2018.index), len(codate2019.index), len(codate2020.index), len(codate2021.index)]"
   ]
  },
  {
   "cell_type": "code",
   "execution_count": 32,
   "id": "39f55da8",
   "metadata": {},
   "outputs": [
    {
     "data": {
      "text/plain": [
       "<BarContainer object of 6 artists>"
      ]
     },
     "execution_count": 32,
     "metadata": {},
     "output_type": "execute_result"
    },
    {
     "data": {
      "image/png": "[encoded data removed]",
      "text/plain": [
       "<Figure size 432x288 with 1 Axes>"
      ]
     },
     "metadata": {
      "needs_background": "light"
     },
     "output_type": "display_data"
    }
   ],
   "source": [
    "# Plot 2016 - 2021 applied building permits.\n",
    "plt.bar(range(len(applied)), applied)"
   ]
  },
  {
   "cell_type": "code",
   "execution_count": 33,
   "id": "2e1b2c76",
   "metadata": {},
   "outputs": [
    {
     "data": {
      "text/plain": [
       "<BarContainer object of 6 artists>"
      ]
     },
     "execution_count": 33,
     "metadata": {},
     "output_type": "execute_result"
    },
    {
     "data": {
      "image/png": "[encoded data removed]",
      "text/plain": [
       "<Figure size 432x288 with 1 Axes>"
      ]
     },
     "metadata": {
      "needs_background": "light"
     },
     "output_type": "display_data"
    }
   ],
   "source": [
    "# Plot 2016 - 2021 applied building permits.\n",
    "plt.bar(range(len(issued)), issued)"
   ]
  },
  {
   "cell_type": "code",
   "execution_count": 34,
   "id": "719a006c",
   "metadata": {},
   "outputs": [
    {
     "data": {
      "text/plain": [
       "<BarContainer object of 6 artists>"
      ]
     },
     "execution_count": 34,
     "metadata": {},
     "output_type": "execute_result"
    },
    {
     "data": {
      "image/png": "[encoded data removed]",
      "text/plain": [
       "<Figure size 432x288 with 1 Axes>"
      ]
     },
     "metadata": {
      "needs_background": "light"
     },
     "output_type": "display_data"
    }
   ],
   "source": [
    "# Plot 2016 - 2021 certificate of occupancy issued.\n",
    "plt.bar(range(len(issued)), issued)"
   ]
  },
  {
   "cell_type": "code",
   "execution_count": null,
   "id": "d8bd216f",
   "metadata": {},
   "outputs": [],
   "source": []
  }
 ],
 "metadata": {
  "kernelspec": {
   "display_name": "Python 3",
   "language": "python",
   "name": "python3"
  },
  "language_info": {
   "codemirror_mode": {
    "name": "ipython",
    "version": 3
   },
   "file_extension": ".py",
   "mimetype": "text/x-python",
   "name": "python",
   "nbconvert_exporter": "python",
   "pygments_lexer": "ipython3",
   "version": "3.8.8"
  }
 },
 "nbformat": 4,
 "nbformat_minor": 5
}
